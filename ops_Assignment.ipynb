{
  "nbformat": 4,
  "nbformat_minor": 0,
  "metadata": {
    "colab": {
      "provenance": []
    },
    "kernelspec": {
      "name": "python3",
      "display_name": "Python 3"
    },
    "language_info": {
      "name": "python"
    }
  },
  "cells": [
    {
      "cell_type": "markdown",
      "source": [
        "python oops question :"
      ],
      "metadata": {
        "id": "qISI9ET8noxn"
      }
    },
    {
      "cell_type": "markdown",
      "source": [
        "ques 1. What is Object-Oriented Programming (OOP) ?\n",
        "\n",
        "....> Object-Oriented Programming (OOPs) is a programming paradigm it is  based on the concept of objects. It allows developers to design applications using real-world entities, such as objects and classes, to create modular, reusable, and maintainable code. Java follows OOP principles, making it a widely used language for software development."
      ],
      "metadata": {
        "id": "LnutCECHnuSr"
      }
    },
    {
      "cell_type": "markdown",
      "source": [
        "ques 2. What is a class in OOP ?\n",
        "\n",
        "....> a class is a blueprint for creating a objects . it has attributes (variable) and behavior (methods ) of an object ."
      ],
      "metadata": {
        "id": "vHPwSRiwoWwU"
      }
    },
    {
      "cell_type": "markdown",
      "source": [
        " ques 3. What is an object in OOP ?\n",
        "  \n",
        "  .......> An object is an instance of a class that has a state (attributes) and behavior (methods). It represents a real-world entity.\n"
      ],
      "metadata": {
        "id": "hCJj_W4wo9WY"
      }
    },
    {
      "cell_type": "markdown",
      "source": [
        " ques 4. What is the difference between abstraction and encapsulation+\n",
        "\n",
        " Key differences:\n",
        "1. Purpose: Abstraction focuses on hiding internal implementation details, while encapsulation focuses on bundling data and methods.\n",
        "2. Scope: Abstraction deals with exposing necessary information, while encapsulation deals with hiding data from external access.\n",
        "3. Complexity: Abstraction reduces complexity by ignoring irrelevant details, while encapsulation ensures data integrity and security.\n",
        "\n",
        "\n",
        "- Abstraction is like a car's gears: you don't need to know how the gears work to drive the car.\n",
        "- Encapsulation is like a car's fuel tank: the fuel is contained within the tank, and you can't access it directly.\n",
        "\n",
        " abstraction is about hiding internal details, while encapsulation is about bundling data and methods to ensure data integrity and security."
      ],
      "metadata": {
        "id": "ubi8NzI5pPU2"
      }
    },
    {
      "cell_type": "markdown",
      "source": [
        "ques 5. What are dunder methods in Python ?\n",
        "\n",
        "\n",
        " ....> In Python, dunder methods are special functions that start and end with double underscores ().\n",
        "\n",
        "\n",
        "\n",
        "Examples:\n",
        "- __init__: Helps create objects\n",
        "- __str__: Returns a string that describes the object\n",
        "- __add__: Defines how objects are added together\n",
        "\n",
        " Why use them?\n",
        "- They make your code more customizable\n",
        "- They make your code easier to read\n",
        "- They help you write code that can be reused"
      ],
      "metadata": {
        "id": "cOISfLICqBCu"
      }
    },
    {
      "cell_type": "markdown",
      "source": [],
      "metadata": {
        "id": "TCYHvvQSo55X"
      }
    },
    {
      "cell_type": "markdown",
      "source": [
        " ques 6. Explain the concept of inheritance in OOP?\n",
        "\n",
        " .......> inhertaince is a mechanism in which one child (class) acquire the property of parent (class)."
      ],
      "metadata": {
        "id": "gxMPVSS7q0GJ"
      }
    },
    {
      "cell_type": "markdown",
      "source": [
        " ques 7. What is polymorphism in OOP?\n",
        "\n",
        "....> Polymorphism allows a method to perform different tasks based on the object that calls it. It is of two types:\n",
        "\n",
        "Compile-time polymorphism (Method Overloading)\n",
        "\n",
        "Run-time polymorphism (Method Overriding)"
      ],
      "metadata": {
        "id": "X3rNNuImrYgg"
      }
    },
    {
      "cell_type": "markdown",
      "source": [
        "ques 8. How is encapsulation achieved in Python?\n",
        "Encapsulation in Python:\n",
        "\n",
        "Encapsulation is like keeping our  personal belongings in a safe box. we can put things in and take things out, but nobody can touch what's inside without our  permission.\n",
        "\n",
        "to achieve encapsulation:\n",
        "1. Use classes and objects: Create a class with variables and methods that can only be accessed through the class.\n",
        "2. Use private variables: Use double underscore () before variable names to make them private.\n",
        "3. Use getter and setter methods: Create methods to control access to private variables."
      ],
      "metadata": {
        "id": "LH_KYEJnr0Vm"
      }
    },
    {
      "cell_type": "markdown",
      "source": [
        " ques 9. What is a constructor in Python ?\n",
        "....>  A constructor in Java is a special method used to initialize objects. It has the same name as the class and is called automatically when an object is created.\n",
        "\n",
        " About Constructors:\n",
        "\n",
        ".. A constructor does not have a return type (not even void).\n",
        "\n",
        "...It is called automatically when an object is created.\n",
        "\n",
        "...It can be default (no parameters) or parameterized (with parameters)."
      ],
      "metadata": {
        "id": "_NxvzibCsilm"
      }
    },
    {
      "cell_type": "markdown",
      "source": [
        "ques 10. What are class and static methods in Python?\n",
        "\n",
        ".....> class method is a method that operates on the class itself rather than an instance. It is defined using the @classmethod decorator and takes cls as the first parameter, which refers to the class.\n",
        "\n",
        "Key Points:\n",
        "\n",
        "✔ Works on the class level instead of an instance.\n",
        "✔ Uses cls as the first parameter.\n",
        "✔ Can modify class variables but not instance variable\n",
        "\n",
        "\n",
        "static method is a method that does not operate on an instance or class variables. It is defined using the @staticmethod decorator and does not take self or cls as parameters.\n",
        "\n",
        "Key Points:\n",
        "\n",
        "✔ Works like a regular function inside a class.\n",
        "✔ Does not modify class or instance variables.\n",
        "✔ Used for utility functions that logically belong to the class but don’t need instance/class data."
      ],
      "metadata": {
        "id": "RQOXM4hKruh7"
      }
    },
    {
      "cell_type": "markdown",
      "source": [
        "ques 11.What is method overloading in Python?\n",
        "\n",
        "...>  Method Overloading in Java allows multiple methods in the same class to have the same name but different parameters (different number, type, or both). It is an example of compile-time polymorphism because the method call is resolved at compile time."
      ],
      "metadata": {
        "id": "F6j3kQCsuaeN"
      }
    },
    {
      "cell_type": "markdown",
      "source": [
        "ques 12.  What is method overriding in OOP ?\n",
        "\n",
        "...> Method overriding is a run-time polymorphism. Method overloading helps to increase the readability of the program. Method overriding is used to grant the specific implementation of the method which is already provided by its parent class or superclass. It occurs within the class. It is performed in two classes with inheritance relationships.\n",
        "\n",
        "*italicized text*"
      ],
      "metadata": {
        "id": "1ZqPnjs2W550"
      }
    },
    {
      "cell_type": "markdown",
      "source": [
        " ques 13. What is a property decorator in Python ?\n",
        " Property Decorator in Python:\n",
        "\n",
        "The property decorator in Python is a special decorator that allows you to customize access to instance variables.\n",
        "\n",
        " What does it do?\n",
        "\n",
        "1. it  Hides internal implementation: Allows you to change the internal implementation without affecting the external interface.\n",
        "2.  it Provides getter and setter functionality: Enables you to control access to instance variables.\n",
        "3.  it Improves code readability: Makes your code more readable by providing a clear and concise way to access instance variables.\n",
        "\n"
      ],
      "metadata": {
        "id": "s9p7Vd5KOj2t"
      }
    },
    {
      "cell_type": "markdown",
      "source": [
        " ques 14. Why is polymorphism important in OOP ?\n",
        " ...>  importance of polymorphism:\n",
        "\n",
        "1. Increased flexibility\n",
        "2. Easier maintenance\n",
        "3. Improved code reusability\n",
        "4. More realistic modeling\n",
        "5. Reduced coupling\n",
        "6. Increased extensibility\n",
        "7. Improved scalability"
      ],
      "metadata": {
        "id": "DCZtoGbEPSTi"
      }
    },
    {
      "cell_type": "markdown",
      "source": [
        " ques 15. What is an abstract class in Python ?\n",
        " Abstract Class in Python:\n",
        "\n",
        " ....> An abstract class in Python is a class that cannot be instantiated and is designed to be inherited by other classes.\n",
        "\n",
        "Characteristics:\n",
        "1. Cannot be instantiated: You cannot create an object of an abstract class.\n",
        "2. Must be inherited: Abstract classes are designed to be inherited by other classes.\n",
        "3. Can have abstract methods: Abstract classes can have methods that are declared but not implemented.\n",
        "4. Can have concrete methods: Abstract classes can also have methods that are fully implemented.\n",
        "\n",
        "\n",
        "\n",
        " example:\n",
        "\n",
        "- Shape is an abstract class that cannot be instantiated.\n",
        "- Circle is a concrete class that inherits from Shape and implements the area method.\n",
        "\n"
      ],
      "metadata": {
        "id": "MxVIL_33PyDX"
      }
    },
    {
      "cell_type": "markdown",
      "source": [
        " ques 16. What are the advantages of OOP ?\n",
        " ...> Here are the advantages of Object-Oriented Programming (OOP):\n",
        "\n",
        "1. Modularity: OOP allows for modular code that is easy to maintain and update.\n",
        "2. Reusability: OOP enables code reusability through inheritance and polymorphism.\n",
        "3. Abstraction: OOP provides abstraction, which helps to hide complex implementation details.\n",
        "4. Encapsulation: OOP promotes encapsulation, which ensures data security and integrity.\n",
        "5. Improved readability: OOP makes code more readable and understandable through the use of objects and classes.\n",
        "6. Easier maintenance: OOP makes it easier to modify and maintain code through the use of inheritance and polymorphism.\n",
        "7. Faster development: OOP enables faster development through the use of pre-built classes and objects.\n",
        "8. Better organization: OOP promotes better organization of code through the use of classes and objects.\n",
        "9. Improved scalability: OOP enables improved scalability through the use of inheritance and polymorphism.\n",
        "10. Real-world modeling: OOP allows for real-world modeling through the use of objects and classes that mimic real-world entities."
      ],
      "metadata": {
        "id": "PgJyKo8rQVoZ"
      }
    },
    {
      "cell_type": "markdown",
      "source": [
        " ques 17. What is the difference between a class variable and an instance variable ?\n",
        "....> Class Variable vs Instance Variable:\n",
        "\n",
        "In object-oriented programming, a class variable and an instance variable are two types of variables that are used to store data.\n",
        "\n",
        "# Class Variable:\n",
        "1. Shared by all instances: A class variable is shared by all instances of a class.\n",
        "2. Defined inside the class: A class variable is defined inside the class, but outside any instance method.\n",
        "3. Same value for all instances: A class variable has the same value for all instances of the class.\n",
        "\n",
        "#  Instance Variable:\n",
        "1. Unique to each instance: An instance variable is unique to each instance of a class.\n",
        "2. Defined inside an instance method: An instance variable is defined inside an instance method or in the __init__ method.\n",
        "3. Different value for each instance: An instance variable can have a different value for each instance of the class.\n",
        "\n",
        "\n",
        "\n"
      ],
      "metadata": {
        "id": "7494kTRRQpK8"
      }
    },
    {
      "cell_type": "markdown",
      "source": [
        "ques 18 .What is multiple inheritance in Python ?\n",
        "....> Multiple Inheritance in Python:\n",
        "\n",
        "Multiple inheritance is a feature of Python that allows a class to inherit properties and methods from multiple parent classes.\n",
        "\n",
        "# Syntax:\n",
        "\n",
        "class ChildClass(ParentClass1, ParentClass2):\n",
        "    pass\n",
        "\n",
        "\n",
        "# Example:\n",
        "\n",
        "class Animal:\n",
        "    def eat(self):\n",
        "        print(\"Eating\")\n",
        "\n",
        "class Mammal:\n",
        "    def walk(self):\n",
        "        print(\"Walking\")\n",
        "\n",
        "class Dog(Animal, Mammal):\n",
        "    def bark(self):\n",
        "        print(\"Barking\")\n",
        "\n",
        "my_dog = Dog()\n",
        "my_dog.eat()  # Eating\n",
        "my_dog.walk()  # Walking\n",
        "my_dog.bark()  # Barking\n",
        "\n",
        "\n",
        "In this example:\n",
        "\n",
        "- Dog class inherits properties and methods from both Animal and Mammal classes.\n",
        "- Dog class has access to methods eat(), walk(), and bark().\n",
        "\n"
      ],
      "metadata": {
        "id": "qGpexkegRTgv"
      }
    },
    {
      "cell_type": "markdown",
      "source": [
        " ques 19. Explain the purpose of ‘’__str__’ and ‘__repr__’ ‘ methods in Python?\n",
        "\n",
        " ...> _str_ Method\n",
        "\n",
        "1. The _str_ method is used to return a user-friendly or readable string representation of an object.\n",
        "\n",
        "2. It is called when you use print(object) or str(object).\n",
        "\n",
        "3. It should return a string that is easily understandable by users.\n",
        "\n",
        "_repr_ Method\n",
        "\n",
        "1. The _repr_ method is used to return an unambiguous string representation of an object, typically for debugging.\n",
        "\n",
        "2. It is called when you use repr(object), or in interactive mode when you type the object’s name.\n",
        "\n",
        " 3.It should return a string that can be used to recreate the object if passed to eval().\n",
        "\n"
      ],
      "metadata": {
        "id": "81wL5gWHR1YA"
      }
    },
    {
      "cell_type": "markdown",
      "source": [
        " ques 20. What is the significance of the ‘super()’ function in Python?\n",
        "\n",
        " ...>*Significance of the super() Function in Python*:\n",
        "\n",
        "The super() function in Python is used to access the methods and properties of a parent or sibling class.\n",
        "\n",
        "# Key significance:\n",
        "1. Method overriding: super() allows you to override methods in a parent class while still calling the parent class's method.\n",
        "2. Accessing parent class attributes: super() provides access to the attributes of a parent class.\n",
        "3. Multiple inheritance: super() helps resolve method calls in multiple inheritance scenarios.\n",
        "4. Code reusability: super() enables code reusability by allowing you to build upon existing classes.\n",
        "\n"
      ],
      "metadata": {
        "id": "IlhYyghHS7YX"
      }
    },
    {
      "cell_type": "markdown",
      "source": [
        "ques 21.What is the significance of the __del__ method in Python ?\n",
        "\n",
        "...>*Significance of the __del__ Method in Python*:\n",
        "\n",
        "The __del__ method in Python is a special method that is automatically called when an object is about to be destroyed.\n",
        "\n",
        "# Key significance:\n",
        "1. Memory management: The __del__ method is used to release system resources, such as file handles or network connections, when an object is no longer needed.\n",
        "2. Cleanup actions: The __del__ method can be used to perform cleanup actions, such as deleting temporary files or closing database connections.\n",
        "3. Debugging: The __del__ method can be used to detect and debug issues related to object destruction.\n",
        "\n",
        "\n"
      ],
      "metadata": {
        "id": "gjgGtG0wTbj4"
      }
    },
    {
      "cell_type": "markdown",
      "source": [
        " ques 22. What is the difference between staticmethod and classmethod in Python?\n",
        "\n",
        "....> Static Method vs Class Method in Python:\n",
        "\n",
        "In Python, staticmethod and classmethod are two decorators that can be used to define methods that belong to a class rather than an instance.\n",
        "\n",
        "# Static Method:\n",
        "1. Belongs to the class: A static method belongs to the class itself, not to any instance of the class.\n",
        "2. No access to class or instance variables: A static method does not have access to the class or instance variables.\n",
        "3. Called using the class name: A static method is called using the class name.\n",
        "\n",
        "# Class Method:\n",
        "1. Belongs to the class: A class method belongs to the class itself, not to any instance of the class.\n",
        "2. Has access to class variables: A class method has access to the class variables.\n",
        "3. Called using the class name or instance: A class method can be called using the class name or an instance of the class.\n",
        "\n"
      ],
      "metadata": {
        "id": "Q4OxcbltUHax"
      }
    },
    {
      "cell_type": "markdown",
      "source": [
        "ques 23.How does polymorphism work in Python with inheritance?\n",
        "\n",
        "...> Polymorphism in Python with Inheritance:\n",
        "\n",
        "Polymorphism is the ability of an object to take on multiple forms, depending on the context in which it is used. In Python, polymorphism is achieved through method overriding and method overloading.\n",
        "\n",
        "# Method Overriding:\n",
        "Method overriding occurs when a subclass provides a specific implementation for a method that is already defined in its superclass.\n",
        "\n",
        "# Method Overloading:\n",
        "Python does not support method overloading in the classical sense. However, you can achieve similar behavior using default argument values or the *args and **kwargs syntax.\n",
        "\n"
      ],
      "metadata": {
        "id": "N_VicXFsUxhr"
      }
    },
    {
      "cell_type": "markdown",
      "source": [
        "ques 24. What is method chaining in Python OOP?\n",
        "\n",
        "....>Method Chaining in Python OOP:\n",
        "\n",
        "Method chaining is a technique in Python object-oriented programming (OOP) where multiple methods are called on the same object in a single line of code.\n",
        "\n",
        "# How it works:\n",
        "1. Each method returns the object itself (self).\n",
        "2. The returned object is used to call the next method.\n",
        "\n",
        "# Benefits:\n",
        "1. Improved readability: Method chaining makes the code more readable by reducing the number of lines and variables.\n",
        "2. Increased fluency: Method chaining allows for a more fluent and expressive coding style.\n",
        "\n",
        "# Example:\n",
        "\n",
        "class Person:\n",
        "    def __init__(self, name):\n",
        "        self.name = name\n",
        "\n",
        "    def set_age(self, age):\n",
        "        self.age = age\n",
        "        return self\n",
        "\n",
        "    def set_address(self, address):\n",
        "        self.address = address\n",
        "        return self\n",
        "\n",
        "    def print_info(self):\n",
        "        print(f\"Name: {self.name}, Age: {self.age}, Address: {self.address}\")\n",
        "\n",
        "person = Person(\"John Doe\")\n",
        "person.set_age(30).set_address(\"123 Main St\").print_info()\n",
        "\n",
        "\n"
      ],
      "metadata": {
        "id": "LqpbstWYVeXi"
      }
    },
    {
      "cell_type": "markdown",
      "source": [
        " ques 25. What is the purpose of the __call__ method in Python?\n",
        "\n",
        " ...> *Purpose of the __call__ Method in Python*:\n",
        "\n",
        "The __call__ method in Python is a special method that allows an object to be called as a function.\n",
        "\n",
        "# Purpose:\n",
        "1. Make an object callable: The __call__ method makes an object callable, allowing it to be invoked like a function.\n",
        "2. Customize function-like behavior: By defining the __call__ method, you can customize the behavior of an object when it's called as a function.\n"
      ],
      "metadata": {
        "id": "FSRpkKXyV_-6"
      }
    },
    {
      "cell_type": "markdown",
      "source": [
        "ques 12. H What is method overriding in OOP ?\n",
        "\n",
        "...>  Method overriding is a run-time polymorphism.\n",
        "Method overloading helps to increase the readability of the program.\n",
        " Method overriding is used to grant the specific implementation of the method which is already provided by its parent class or superclass.\n",
        "  It occurs within the class. It is performed in two classes with inheritance relationships."
      ],
      "metadata": {
        "id": "gTLyoEJJW1oB"
      }
    },
    {
      "cell_type": "markdown",
      "source": [
        "# pratical question:"
      ],
      "metadata": {
        "id": "oOxLp2VUXONF"
      }
    },
    {
      "cell_type": "code",
      "source": [
        "   # ques 1. Create a parent class Animal with a method speak() that prints a generic message. Create a child class Dog\n",
        " # that overrides the speak() method to print \"Bark!\".\n",
        "# Parent class\n",
        "class Animal:\n",
        "    def speak(self):\n",
        "        print(\"Animal makes a sound\")\n",
        "\n",
        "# Child class\n",
        "class Dog(Animal):\n",
        "    def speak(self):\n",
        "        print(\"Bark!\")\n",
        "\n",
        "# Creating objects\n",
        "a = Animal()\n",
        "a.speak()\n",
        "d = Dog()\n",
        "d.speak()\n"
      ],
      "metadata": {
        "colab": {
          "base_uri": "https://localhost:8080/"
        },
        "id": "OfekBuVoXeqG",
        "outputId": "03be052b-3bb5-4dde-d6d9-9ea8866a2e2a"
      },
      "execution_count": null,
      "outputs": [
        {
          "output_type": "stream",
          "name": "stdout",
          "text": [
            "Animal makes a sound\n",
            "Bark!\n"
          ]
        }
      ]
    },
    {
      "cell_type": "code",
      "source": [
        " # ques 2.  Write a program to create an abstract class Shape with a method area(). Derive classes Circle and Rectangle\n",
        " # from it and implement the area() method in both.\n",
        "\n",
        "from abc import ABC, abstractmethod\n",
        "\n",
        "# Abstract class\n",
        "class Shape(ABC):\n",
        "    @abstractmethod\n",
        "    def area(self):\n",
        "        pass  # Must be implemented in subclasses\n",
        "\n",
        "# Triangle class inheriting from Shape\n",
        "class Triangle(Shape):\n",
        "    def _init_(self, base, height):\n",
        "        self.base = base\n",
        "        self.height = height\n",
        "\n",
        "    def area(self):\n",
        "        return 0.5 * self.base * self.height\n",
        "\n",
        "# Square class inheriting from Shape\n",
        "class Square(Shape):\n",
        "    def _init_(self, side):\n",
        "        self.side = side\n",
        "\n",
        "    def area(self):\n",
        "        return self.side ** 2\n",
        "\n",
        "# Creating objects and calculating areas\n",
        "Triangle = Triangle (15, 6)\n",
        "square = Square(4)\n",
        "\n",
        "print(f\"Triangle Area: {Triangle.area()}\")\n",
        "print(f\"Square Area: {square.area()}\")\n"
      ],
      "metadata": {
        "id": "tujj0VJ8YMCm"
      },
      "execution_count": null,
      "outputs": []
    },
    {
      "cell_type": "code",
      "source": [
        "   # ques 3. # Implement a multi-level inheritance scenario where a class Vehicle has an attribute type. Derive a class Car\n",
        " # and further derive a class ElectricCar that adds a battery attribute.\n",
        " # Base class\n",
        "class Animal:\n",
        "    def _init_(self, name):\n",
        "        self.name = name\n",
        "\n",
        "    def display_name(self):\n",
        "        print(f\"Animal Name: {self.name}\")\n",
        "\n",
        "# Derived class from Animal\n",
        "class Elephant(Animal):\n",
        "    def _init_(self, name, blood_type):\n",
        "        super()._init_(name)\n",
        "        self.blood_type = blood_type\n",
        "\n",
        "    def display_elephant_info(self):\n",
        "        print(f\"Blood Type: {self.blood_type}\")\n",
        "\n",
        "# Further derived class from Elephant\n",
        "class Dog(Elephant):\n",
        "    def _init_(self, name, blood_type, breed):\n",
        "        super()._init_(name, blood_type)\n",
        "        self.breed = breed\n",
        "\n",
        "    def display_breed_info(self):\n",
        "        print(f\"Dog Breed: {self.breed}\")\n",
        "\n",
        "# Creating an object of Dog\n",
        "dog = Dog # (\"Buddy\",\"Warm-blooded\", \"Labrador\")\n",
        "\n",
        "# Display details\n",
        "dog.display_name() From Animal class\n",
        "dog.display_elephant_info()  # From Elephant class\n",
        "dog.display_breed_info()  # From Dog"
      ],
      "metadata": {
        "id": "WwBGrnD3ZSRj"
      },
      "execution_count": null,
      "outputs": []
    },
    {
      "cell_type": "code",
      "source": [
        "# ques 4. Demonstrate polymorphism by creating a base class Bird with a method fly(). Create two derived classes\n",
        " # Sparrow and Penguin that override the fly() method.\n",
        " # Base class\n",
        "class Bird:\n",
        "    def fly(self):\n",
        "        print(\"Birds can fly.\")\n",
        "\n",
        "# Derived class Sparrow\n",
        "class Sparrow(Bird):\n",
        "    def fly(self):\n",
        "        print(\"Sparrow flies high in the sky.\")\n",
        "\n",
        "# Derived class Penguin\n",
        "class Penguin(Bird):\n",
        "    def fly(self):\n",
        "        print(\"Penguins cannot fly, they swim instead.\")\n",
        "\n",
        "# Function to demonstrate polymorphism\n",
        "def demonstrate_flight(bird):\n",
        "    bird.fly()\n",
        "\n",
        "# Creating objects\n",
        "sparrow = Sparrow()\n",
        "penguin = Penguin()\n",
        "\n",
        "# Demonstrating polymorphism\n",
        "demonstrate_flight(sparrow)  # Calls fly() of Sparrow\n",
        "demonstrate_flight(penguin)  # Calls fly() of Penguin\n",
        "\n",
        "\n",
        "\n"
      ],
      "metadata": {
        "colab": {
          "base_uri": "https://localhost:8080/"
        },
        "id": "EHcB1R7gcIl3",
        "outputId": "65db218e-da14-4890-a9bf-bfb899317b1f"
      },
      "execution_count": null,
      "outputs": [
        {
          "output_type": "stream",
          "name": "stdout",
          "text": [
            "Sparrow flies high in the sky.\n",
            "Penguins cannot fly, they swim instead.\n"
          ]
        }
      ]
    },
    {
      "cell_type": "code",
      "source": [
        "  # ques 5. Write a program to demonstrate encapsulation by creating a class BankAccount with private attributes\n",
        " # balance and methods to deposit, withdraw, and check balance\n",
        "class BankAccount:\n",
        "    def _init_(self, initial_balance=0):\n",
        "        self.__balance = initial_balance  # Private attribute\n",
        "\n",
        "    # Method to deposit money\n",
        "    def deposit(self, amount):\n",
        "        if amount > 0:\n",
        "            self.__balance += amount\n",
        "            print(f\"Deposited: ${amount}\")\n",
        "        else:\n",
        "            print(\"Deposit amount must be positive.\")\n",
        "\n",
        "    # Method to withdraw money\n",
        "    def withdraw(self, amount):\n",
        "        if amount > 0:\n",
        "            if self.__balance >= amount:\n",
        "                self.__balance -= amount\n",
        "                print(f\"Withdrawn: ${amount}\")\n",
        "            else:\n",
        "                print(\"Insufficient balance!\")\n",
        "        else:\n",
        "            print(\"Withdrawal amount must be positive.\")\n",
        "\n",
        "    # Method to check balance\n",
        "    def check_balance(self):\n",
        "        print(f\"Current Balance: ${self.__balance}\")\n",
        "\n",
        "# Creating an account object\n",
        "account = BankAccount(500)\n",
        "\n",
        "# Performing transactions\n",
        "account.deposit(500)\n",
        "account.withdraw(300)\n",
        "account.check_balance()\n",
        "\n",
        "# Trying to access private attribute directly (Will cause an error)\n",
        "# print(account.__balance)  # Uncommenting this will raise an AttributeError"
      ],
      "metadata": {
        "id": "IDDlvAYLc0_A"
      },
      "execution_count": null,
      "outputs": []
    },
    {
      "cell_type": "code",
      "source": [
        "  #ques 6.  Demonstrate runtime polymorphism using a method play() in a base class Instrument. Derive classes Guitar\n",
        " # and Piano that implement their own version of play().\n",
        " # Base class\n",
        "class Instrument:\n",
        "    def play(self):\n",
        "        print(\"Playing an instrument.\")\n",
        "\n",
        "# Derived class Guitar\n",
        "class Guitar(Instrument):\n",
        "    def play(self):\n",
        "        print(\"Strumming the guitar!\")\n",
        "\n",
        "# Derived class Piano\n",
        "class Piano(Instrument):\n",
        "    def play(self):\n",
        "        print(\"Playing the piano keys!\")\n",
        "\n",
        "# Function to demonstrate polymorphism\n",
        "def perform_play(instrument):\n",
        "    instrument.play()\n",
        "\n",
        "# Creating objects\n",
        "guitar = Guitar()\n",
        "piano = Piano()\n",
        "\n",
        "# Demonstrating runtime polymorphism\n",
        "perform_play(guitar)\n",
        "perform_play(piano)"
      ],
      "metadata": {
        "colab": {
          "base_uri": "https://localhost:8080/"
        },
        "id": "Zcdnh5pOekHJ",
        "outputId": "22f780ed-f9a0-4c47-e16a-4ac7e2d2f632"
      },
      "execution_count": null,
      "outputs": [
        {
          "output_type": "stream",
          "name": "stdout",
          "text": [
            "Strumming the guitar!\n",
            "Playing the piano keys!\n"
          ]
        }
      ]
    },
    {
      "cell_type": "code",
      "source": [
        "  #ques 7.  Create a class MathOperations with a class method add_numbers() to add two numbers and a static\n",
        " # method subtract_numbers() to subtract two numbers.\n",
        "class MathOperations:\n",
        "    # Class method to add two numbers\n",
        "    @classmethod\n",
        "    def add_numbers(cls, a, b):\n",
        "        return a + b\n",
        "\n",
        "    # Static method to subtract two numbers\n",
        "    @staticmethod\n",
        "    def subtract_numbers(a, b):\n",
        "        return a - b\n",
        "\n",
        "# Using the class method\n",
        "sum_result = MathOperations.add_numbers(25, 6)\n",
        "print(f\"Sum: {sum_result}\")\n",
        "\n",
        "# Using the static method\n",
        "difference = MathOperations.subtract_numbers(25, 6)\n",
        "print(f\"Difference: {difference}\")"
      ],
      "metadata": {
        "colab": {
          "base_uri": "https://localhost:8080/"
        },
        "id": "kri2A7wnfjVC",
        "outputId": "661036a9-b150-4526-e626-3eb9d04d3d8c"
      },
      "execution_count": null,
      "outputs": [
        {
          "output_type": "stream",
          "name": "stdout",
          "text": [
            "Sum: 31\n",
            "Difference: 19\n"
          ]
        }
      ]
    },
    {
      "cell_type": "code",
      "source": [
        "ques 8.# Implement a class Person with a class method to count the total number of persons created.\n",
        "class Person:\n",
        "    count = 0  # Class variable to store the number of instances\n",
        "\n",
        "    def _init_(self, name):\n",
        "        self.name = name\n",
        "        Person.count += 1  # Increment count when a new object is created\n",
        "\n",
        "    @classmethod\n",
        "    def get_person_count(cls):\n",
        "        return cls.count  # Access the class variable\n",
        "\n",
        "# Creating person objects\n",
        "p1=Person(\"Amrita\")\n",
        "p2 = Person(\"jiya\")\n",
        "p3 = Person(\"esha\")\n",
        "\n",
        "# Getting total count of Person instances\n",
        "print(f\"Total persons created: {Person.get_person_count()}\")"
      ],
      "metadata": {
        "id": "mGwkprxfgtF6"
      },
      "execution_count": null,
      "outputs": []
    },
    {
      "cell_type": "code",
      "source": [
        "#ques 9.# 9. Write a class Fraction with attributes numerator and denominator. Override the str method to display the fraction as \"numerator/denominator\".\n",
        "\n",
        "class fraction:\n",
        "    def __init__(self, numerator, denominator):\n",
        "        self.numerator = numerator\n",
        "        self.denominator = denominator\n",
        "    def __str__(self):\n",
        "        return f\"{self.numerator} / {self.denominator}\"\n",
        "frac1 = fraction(5, 4)\n",
        "frac2 = fraction(2, 6)\n",
        "print(frac1)\n",
        "print(frac2)"
      ],
      "metadata": {
        "id": "RsZC22yukBfu",
        "colab": {
          "base_uri": "https://localhost:8080/"
        },
        "outputId": "de89d622-b546-462c-b12a-2f1a750ddf32"
      },
      "execution_count": 11,
      "outputs": [
        {
          "output_type": "stream",
          "name": "stdout",
          "text": [
            "5 / 4\n",
            "2 / 6\n"
          ]
        }
      ]
    },
    {
      "cell_type": "code",
      "source": [
        "# 10. Demonstrate operator overloading by creating a class Vector and overriding the add method to add two vectors.\n",
        "\n",
        "class Vector:\n",
        "    def __init__(self, x, y):\n",
        "        self.x = x\n",
        "        self.y = y\n",
        "    def __add__(self, other):\n",
        "        return Vector(self.x + other.x, self.y + other.y)\n",
        "    def __str__(self):\n",
        "        return f\"({self.x}, {self.y})\"\n",
        "v1 = Vector(1, 3)\n",
        "v2 = Vector(4, 7)\n",
        "v3 = v1 + v2\n",
        "print(\"Vector 1:\", v1)\n",
        "print(\"Vector 2:\", v2)\n",
        "print(\"Sum of Vectors:\", v3)\n",
        ""
      ],
      "metadata": {
        "colab": {
          "base_uri": "https://localhost:8080/"
        },
        "id": "rFNLtv2U12YE",
        "outputId": "db3342a6-527a-4f75-b3b0-9dbacf16f036"
      },
      "execution_count": 12,
      "outputs": [
        {
          "output_type": "stream",
          "name": "stdout",
          "text": [
            "Vector 1: (1, 3)\n",
            "Vector 2: (4, 7)\n",
            "Sum of Vectors: (5, 10)\n"
          ]
        }
      ]
    },
    {
      "cell_type": "code",
      "source": [
        "# 11. Create a class Person with attributes name and age. Add a method greet() that prints Hello, my name is{name} and am {age} years old.\"\n",
        "\n",
        "class person:\n",
        "    def __init__(self, name, age):\n",
        "        self.name = name\n",
        "        self.age = age\n",
        "    def greet(self):\n",
        "        print(f\"Hello my name is {self.name} and i am {self.age} years old!!\")\n",
        "pers1 = person(\"Amrita\", 17)\n",
        "pers1.greet()\n",
        ""
      ],
      "metadata": {
        "colab": {
          "base_uri": "https://localhost:8080/"
        },
        "id": "T0mafT40190B",
        "outputId": "864261c1-cb54-48d5-d4c5-22432eb90428"
      },
      "execution_count": 13,
      "outputs": [
        {
          "output_type": "stream",
          "name": "stdout",
          "text": [
            "Hello my name is Amrita and i am 17 years old!!\n"
          ]
        }
      ]
    },
    {
      "cell_type": "code",
      "source": [
        "# 12. Implement a class Student with attributes name and grades. Create a method average_grade() to compute the average of the grades.\n",
        "\n",
        "class student:\n",
        "    def __init__(self, name, grades):\n",
        "        self.name = name\n",
        "        self.grades = grades\n",
        "    def average_grade(self):\n",
        "        if len(self.grades) == 0:\n",
        "            return 0\n",
        "        return sum(self.grades) / len(self.grades)\n",
        "    def __str__(self):\n",
        "        return f\" Student: {self.name}, avarage grade {self.average_grade():.2f}\"\n",
        "s1 = student(\"Amrita\", [99, 96, 100])\n",
        "s2 = student(\"jiya\", [84, 70, 95, 69])\n",
        "print(s1)\n",
        "print(s2)\n",
        ""
      ],
      "metadata": {
        "colab": {
          "base_uri": "https://localhost:8080/"
        },
        "id": "ZDpT5EDZ1_4r",
        "outputId": "2b12a4ec-96d7-42c1-eae9-2a58153fc876"
      },
      "execution_count": 14,
      "outputs": [
        {
          "output_type": "stream",
          "name": "stdout",
          "text": [
            " Student: Amrita, avarage grade 98.33\n",
            " Student: jiya, avarage grade 79.50\n"
          ]
        }
      ]
    },
    {
      "cell_type": "code",
      "source": [
        "# 13. Create a class Rectangle with methods set_dimensions() to set the dimensions and area() to calculate the area.\n",
        "\n",
        "class Rectangle:\n",
        "    def __init__(self):\n",
        "        self.length = 0\n",
        "        self.width = 0\n",
        "    def set_dimensions(self, length, width):\n",
        "        self.length = length\n",
        "        self.width = width\n",
        "    def area(self):\n",
        "        return self.length * self.width\n",
        "    def __str__(self):\n",
        "        return f\"Rectangle with Length: {self.length}, Width: {self.width}, Area: {self.area()}\"\n",
        "rect = Rectangle()\n",
        "rect.set_dimensions(4, 15)\n",
        "print(rect)\n",
        ""
      ],
      "metadata": {
        "colab": {
          "base_uri": "https://localhost:8080/"
        },
        "id": "m67gmeHK2ELo",
        "outputId": "8bb17d22-18cf-4d72-f6c1-9fd5b4123779"
      },
      "execution_count": 15,
      "outputs": [
        {
          "output_type": "stream",
          "name": "stdout",
          "text": [
            "Rectangle with Length: 4, Width: 15, Area: 60\n"
          ]
        }
      ]
    },
    {
      "cell_type": "code",
      "source": [
        "\n",
        " # 14. Create a class Employee with a method calculate_ salary() that computes the salary based on hours worked and hourly rate. Create a derived class Manager that adds o bonus to the\n",
        "\n",
        "class Employee:\n",
        "    def __init__(self, name, hours_worked, hourly_rate):\n",
        "        self.name = name\n",
        "        self.hours_worked = hours_worked\n",
        "        self.hourly_rate = hourly_rate\n",
        "    def calculate_salary(self):\n",
        "        return self.hours_worked * self.hourly_rate\n",
        "    def __str__(self):\n",
        "        return f\"Employee: {self.name}, Salary: {self.calculate_salary()}\"\n",
        "class Manager(Employee):\n",
        "    def __init__(self, name, hours_worked, hourly_rate, bonus):\n",
        "        super().__init__(name, hours_worked, hourly_rate)\n",
        "        self.bonus = bonus\n",
        "    def calculate_salary(self):\n",
        "        return super().calculate_salary() + self.bonus\n",
        "    def __str__(self):\n",
        "        return f\"Manager: {self.name}, Salary: {self.calculate_salary()}\"\n",
        "emp = Employee(\"Amrita\", 60, 30)\n",
        "mgr = Manager(\"jiya\", 45, 30, 500)\n",
        "print(emp)\n",
        "print(mgr)"
      ],
      "metadata": {
        "colab": {
          "base_uri": "https://localhost:8080/"
        },
        "id": "B7q1ozCL2PaJ",
        "outputId": "ce4c6ed1-7dfd-4a28-a927-b384ffe0e0ef"
      },
      "execution_count": 16,
      "outputs": [
        {
          "output_type": "stream",
          "name": "stdout",
          "text": [
            "Employee: Amrita, Salary: 1800\n",
            "Manager: jiya, Salary: 1850\n"
          ]
        }
      ]
    },
    {
      "cell_type": "code",
      "source": [
        "# 15. Create a class Product with attributes name, price, and quantity. Implement a method total_ price() that calculates the total price of the product.\n",
        "\n",
        "class product:\n",
        "    def __init__(self, name, price, quantity):\n",
        "        self.name = name\n",
        "        self.price = price\n",
        "        self.quantity = quantity\n",
        "    def total_price(self):\n",
        "        return (self.price) * (self.quantity)\n",
        "    def __str__(self):\n",
        "        return f\" Product name : {self.name}, Price : {self.price}, Quantity: {self.quantity}, Total amount is : {self.total_price()}\"\n",
        "p1 = product(\"creatin\", 400, 2)\n",
        "p2 = product(\"chocolate\", 100, 3)\n",
        "p3 = product(\"lenskart_specs\", 1650, 2)\n",
        "p4 = product(\"oats\", 200, 3)\n",
        "\n",
        "print(p1)\n",
        "print(p2)\n",
        "print(p3)\n",
        "print(p4)\n",
        ""
      ],
      "metadata": {
        "colab": {
          "base_uri": "https://localhost:8080/"
        },
        "id": "sIhq9FWi2k6F",
        "outputId": "c2402303-3712-4a78-eb9b-514f07324d50"
      },
      "execution_count": 7,
      "outputs": [
        {
          "output_type": "stream",
          "name": "stdout",
          "text": [
            " Product name : creatin, Price : 400, Quantity: 2, Total amount is : 800\n",
            " Product name : chocolate, Price : 100, Quantity: 3, Total amount is : 300\n",
            " Product name : lenskart_specs, Price : 1650, Quantity: 2, Total amount is : 3300\n",
            " Product name : oats, Price : 200, Quantity: 3, Total amount is : 600\n"
          ]
        }
      ]
    },
    {
      "cell_type": "code",
      "source": [
        "# 16. Create a class Animal with an abstract method sound(). Create two derived classes Cow and Sheep that implement the sound() method.\n",
        "from abc import ABC, abstractmethod\n",
        "class animal(ABC):\n",
        "    @abstractmethod\n",
        "    def sound(self):\n",
        "        pass\n",
        "class cat(animal):\n",
        "    def sound(self):\n",
        "        return \"cat sound\"\n",
        "class Dog(animal):\n",
        "    def sound(self):\n",
        "        return \" dog's sound\"\n",
        "\n",
        "c1 = cat()\n",
        "s1 = Dog()\n",
        "print(s1.sound())\n",
        "print(c1.sound())\n",
        ""
      ],
      "metadata": {
        "colab": {
          "base_uri": "https://localhost:8080/"
        },
        "id": "_jKjJQAS2r4W",
        "outputId": "be96ad06-eb09-4c8d-a640-6f7fcb723bb1"
      },
      "execution_count": 18,
      "outputs": [
        {
          "output_type": "stream",
          "name": "stdout",
          "text": [
            " dog's sound\n",
            "cat sound\n"
          ]
        }
      ]
    },
    {
      "cell_type": "code",
      "source": [
        "# 17. Create a class Book with attributes title, author,and year_published. Add a method get_book_info() that returns formatted string with the book's details.\n",
        "\n",
        "class book:\n",
        "    def __init__(self, title, author, year_of_published):\n",
        "        self.title = title\n",
        "        self.author = author\n",
        "        self.year_of_published = year_of_published\n",
        "    def get_book_info(self):\n",
        "        return f\" Title of book : {self.title}, Author of book : {self.author}, Year of publish : {self.year_of_published}\"\n",
        "book1 = book(\"gdan\", \"premchand\", 1960)\n",
        "print(book1.get_book_info())\n",
        ""
      ],
      "metadata": {
        "colab": {
          "base_uri": "https://localhost:8080/"
        },
        "id": "0QOTDMxV2wVQ",
        "outputId": "13c9b538-e4f3-4315-8f76-890864753dd3"
      },
      "execution_count": 19,
      "outputs": [
        {
          "output_type": "stream",
          "name": "stdout",
          "text": [
            " Title of book : gdan, Author of book : premchand, Year of publish : 1960\n"
          ]
        }
      ]
    },
    {
      "cell_type": "code",
      "source": [
        "# 18. Create a class House with attributes address and price. Create a derived class Mansion that adds an attribute number_of_rooms.\n",
        "\n",
        "class house:\n",
        "    def __init__(self, address, price):\n",
        "        self.address = address\n",
        "        self.price = price\n",
        "    def get_info(self):\n",
        "        return f\" House in : {self.address}, price : {self.price} is available to own\"\n",
        "class mansion(house):\n",
        "    def __init__(self, address, price, no_rooms):\n",
        "        super().__init__(address, price)\n",
        "        self.no_rooms = no_rooms\n",
        "    def get_info(self):\n",
        "        return f\" mansion in : {self.address}, price : {self.price}, Total Rooms : {self.no_rooms} is available to own\"\n",
        "house1 = house(\"delhi\", 2000000)\n",
        "mansion1 = mansion(\"mumbai\", 180000000, 20)\n",
        "print(house1.get_info())\n",
        "print(mansion1.get_info())\n",
        ""
      ],
      "metadata": {
        "colab": {
          "base_uri": "https://localhost:8080/"
        },
        "id": "AcEWCpUU2z4V",
        "outputId": "f36472b1-fadc-4633-886d-4305885faff8"
      },
      "execution_count": 20,
      "outputs": [
        {
          "output_type": "stream",
          "name": "stdout",
          "text": [
            " House in : delhi, price : 2000000 is available to own\n",
            " mansion in : mumbai, price : 180000000, Total Rooms : 20 is available to own\n"
          ]
        }
      ]
    }
  ]
}